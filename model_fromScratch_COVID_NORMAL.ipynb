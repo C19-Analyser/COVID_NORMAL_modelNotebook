{
 "cells": [
  {
   "cell_type": "markdown",
   "metadata": {},
   "source": [
    "# Modèle from scratch : classification binaire COVID / SAIN (NORMAL)"
   ]
  },
  {
   "cell_type": "code",
   "execution_count": 1,
   "metadata": {},
   "outputs": [],
   "source": [
    "# Chargement des modules necessaire :\n",
    "import os\n",
    "\n",
    "import numpy as np\n",
    "\n",
    "import random\n",
    "import matplotlib as plt\n",
    "\n",
    "from tensorflow.keras.models import Sequential\n",
    "from tensorflow.keras.layers import Activation, Dropout, Flatten, Dense\n",
    "from tensorflow.keras.layers import Convolution2D, MaxPooling2D, ZeroPadding2D\n",
    "from tensorflow.keras import optimizers\n",
    "from tensorflow.keras.preprocessing.image import ImageDataGenerator\n",
    "from tensorflow.keras.preprocessing.image import load_img,img_to_array"
   ]
  },
  {
   "cell_type": "code",
   "execution_count": 3,
   "metadata": {},
   "outputs": [
    {
     "name": "stdout",
     "output_type": "stream",
     "text": [
      "Il y a 401 images d'entrainement de patient covid.\n",
      "Il y a 401 images d'entrainement de patient non-covid.\n",
      "Il y a 201 images test de patient covid.\n",
      "Il y a 1001 images test de patient non-covid.\n",
      "Il y a 101 images de validation de patient covid.\n",
      "Il y a 101 images de validation de patient non-covid.\n"
     ]
    }
   ],
   "source": [
    "# On declare les chemins vers les donnees :\n",
    "\n",
    "Image = 'data'\n",
    "        \n",
    "train_data_dir = 'Data/TRAIN'\n",
    "validation_data_dir = 'Data/VALIDATION'\n",
    "test_data_dir = 'Data/TEST'\n",
    "\n",
    "# Dimmension et path :\n",
    "img_width, img_height = 224, 224\n",
    "\n",
    "ImageTRAINCOVID = os.listdir(Image + '/TRAIN/COVID')\n",
    "ImageTRAINNORMAL = os.listdir(Image + '/TRAIN/NORMAL')\n",
    "\n",
    "ImageTESTCOVID = os.listdir(Image + '/TEST/COVID')\n",
    "ImageTESTNORMAL = os.listdir(Image + '/TEST/NORMAL')\n",
    "\n",
    "ImageVALIDATIONCOVID = os.listdir(Image + '/VALIDATION/COVID')\n",
    "ImageVALIDATIONNORMAL = os.listdir(Image + '/VALIDATION/NORMAL')\n",
    "\n",
    "print('Il y a ' + str(len(ImageTRAINCOVID)) + ' images d\\'entrainement de patient covid.') \n",
    "print('Il y a ' + str(len(ImageTRAINNORMAL)) + ' images d\\'entrainement de patient non-covid.') \n",
    "print('Il y a ' + str(len(ImageTESTCOVID)) + ' images test de patient covid.') \n",
    "print('Il y a ' + str(len(ImageTESTNORMAL)) + ' images test de patient non-covid.') \n",
    "print('Il y a ' + str(len(ImageVALIDATIONCOVID)) + ' images de validation de patient covid.') \n",
    "print('Il y a ' + str(len(ImageVALIDATIONNORMAL)) + ' images de validation de patient non-covid.') "
   ]
  },
  {
   "cell_type": "code",
   "execution_count": null,
   "metadata": {},
   "outputs": [],
   "source": [
    "# Visualisation de 6 exemples en 2 lignes et 3 colonnes pour chaque classe :\n",
    "\n",
    "# TRAIN :\n",
    "\n",
    "print(\"TRAIN COVID\")\n",
    "\n",
    "\n",
    "# COVID  :\n",
    "\n",
    "plt.figure(figsize=(20,10))\n",
    "for i in range(3):\n",
    "    plt.subplot(1, 3, i + 1)\n",
    "    randomImageTRAINCOVID = random.choice(os.listdir(train_data_dir + '/COVID'))\n",
    "    plt.imshow(plt.imread(os.path.join( train_data_dir +'/COVID',randomImageTRAINCOVID)), cmap='gray')\n",
    "    plt.title(randomImageTRAINCOVID)\n",
    "    \n",
    "plt.show()\n",
    "\n",
    "print(\"TEST COVID\")\n",
    "# COVID  :\n",
    "plt.figure(figsize=(20,10))\n",
    "for i in range(3):\n",
    "    plt.subplot(1, 3, i + 1)\n",
    "    randomImageTESTCOVID = random.choice(os.listdir(validation_data_dir + '/COVID'))\n",
    "    plt.imshow(plt.imread(os.path.join( validation_data_dir +'/COVID',randomImageTESTCOVID)), cmap='gray')\n",
    "    plt.title(randomImageTESTCOVID)\n",
    "    \n",
    "plt.show()\n",
    "\n",
    "print(\"TRAIN NORMAL\")\n",
    "# NORMAL :\n",
    "\n",
    "plt.figure(figsize=(20,10))\n",
    "for i in range(3):\n",
    "    plt.subplot(1, 3, i + 1)\n",
    "    randomImageTRAINNORMAL = random.choice(os.listdir(train_data_dir + '/NORMAL'))\n",
    "    plt.imshow(plt.imread(os.path.join( train_data_dir +'/NORMAL',randomImageTRAINNORMAL)), cmap='gray')\n",
    "    plt.title(randomImageTRAINNORMAL)\n",
    "    \n",
    "plt.show()\n",
    "\n",
    "\n",
    "# TEST:\n",
    "\n",
    "print(\"TEST NORMAL\")\n",
    "\n",
    "# NORMAL :\n",
    "\n",
    "plt.figure(figsize=(20,10))\n",
    "for i in range(3):\n",
    "    plt.subplot(1, 3, i + 1)\n",
    "    randomImageTESTNORMAL = random.choice(os.listdir(validation_data_dir + '/NORMAL'))\n",
    "    plt.imshow(plt.imread(os.path.join( validation_data_dir +'/NORMAL',randomImageTESTNORMAL)), cmap='gray')\n",
    "    plt.title(randomImageTESTNORMAL)\n",
    "    \n",
    "plt.show()"
   ]
  },
  {
   "cell_type": "code",
   "execution_count": 14,
   "metadata": {},
   "outputs": [
    {
     "name": "stdout",
     "output_type": "stream",
     "text": [
      "Found 160 images belonging to 2 classes.\n",
      "Found 1200 images belonging to 2 classes.\n",
      "Found 1200 images belonging to 2 classes.\n"
     ]
    }
   ],
   "source": [
    "# Preprocessing :\n",
    "\n",
    "# On rescale les images :\n",
    "\n",
    "datagen = ImageDataGenerator(rescale=1./255)\n",
    "\n",
    "# On definit la batch size :\n",
    "\n",
    "batch_size = 32 \n",
    "\n",
    "# On prepare les tableaux de donnees depuis les images :\n",
    "\n",
    "train_generator = datagen.flow_from_directory(\n",
    "        train_data_dir,\n",
    "        target_size=(img_width, img_height),\n",
    "        batch_size=batch_size,\n",
    "        class_mode='binary')\n",
    "\n",
    "test_generator = datagen.flow_from_directory(\n",
    "        test_data_dir,\n",
    "        target_size=(img_width, img_height),\n",
    "        batch_size=batch_size,\n",
    "        class_mode='binary')\n",
    "\n",
    "validation_generator = datagen.flow_from_directory(\n",
    "        validation_data_dir,\n",
    "        target_size=(img_width, img_height),\n",
    "        batch_size=batch_size,\n",
    "        class_mode='binary')"
   ]
  },
  {
   "cell_type": "code",
   "execution_count": 4,
   "metadata": {
    "scrolled": true
   },
   "outputs": [
    {
     "name": "stdout",
     "output_type": "stream",
     "text": [
      "Model: \"sequential_1\"\n",
      "_________________________________________________________________\n",
      "Layer (type)                 Output Shape              Param #   \n",
      "=================================================================\n",
      "conv2d (Conv2D)              (None, 222, 222, 32)      896       \n",
      "_________________________________________________________________\n",
      "activation (Activation)      (None, 222, 222, 32)      0         \n",
      "_________________________________________________________________\n",
      "max_pooling2d (MaxPooling2D) (None, 111, 111, 32)      0         \n",
      "_________________________________________________________________\n",
      "conv2d_1 (Conv2D)            (None, 109, 109, 32)      9248      \n",
      "_________________________________________________________________\n",
      "activation_1 (Activation)    (None, 109, 109, 32)      0         \n",
      "_________________________________________________________________\n",
      "max_pooling2d_1 (MaxPooling2 (None, 54, 54, 32)        0         \n",
      "_________________________________________________________________\n",
      "conv2d_2 (Conv2D)            (None, 52, 52, 64)        18496     \n",
      "_________________________________________________________________\n",
      "activation_2 (Activation)    (None, 52, 52, 64)        0         \n",
      "_________________________________________________________________\n",
      "max_pooling2d_2 (MaxPooling2 (None, 26, 26, 64)        0         \n",
      "_________________________________________________________________\n",
      "flatten (Flatten)            (None, 43264)             0         \n",
      "_________________________________________________________________\n",
      "dense (Dense)                (None, 64)                2768960   \n",
      "_________________________________________________________________\n",
      "activation_3 (Activation)    (None, 64)                0         \n",
      "_________________________________________________________________\n",
      "dropout (Dropout)            (None, 64)                0         \n",
      "_________________________________________________________________\n",
      "dense_1 (Dense)              (None, 1)                 65        \n",
      "_________________________________________________________________\n",
      "activation_4 (Activation)    (None, 1)                 0         \n",
      "=================================================================\n",
      "Total params: 2,797,665\n",
      "Trainable params: 2,797,665\n",
      "Non-trainable params: 0\n",
      "_________________________________________________________________\n"
     ]
    }
   ],
   "source": [
    "# On definit l'architecture du model :\n",
    "\n",
    "model = Sequential()\n",
    "model.add(Convolution2D(32, (3, 3), input_shape=(img_width, img_height,3)))\n",
    "model.add(Activation('relu'))\n",
    "model.add(MaxPooling2D(pool_size=(2, 2)))\n",
    "\n",
    "model.add(Convolution2D(32, (3, 3)))\n",
    "model.add(Activation('relu'))\n",
    "model.add(MaxPooling2D(pool_size=(2, 2)))\n",
    "\n",
    "model.add(Convolution2D(64, (3, 3)))\n",
    "model.add(Activation('relu'))\n",
    "model.add(MaxPooling2D(pool_size=(2, 2)))\n",
    "\n",
    "model.add(Flatten())\n",
    "model.add(Dense(64))\n",
    "model.add(Activation('relu'))\n",
    "model.add(Dropout(0.5))\n",
    "model.add(Dense(1))\n",
    "model.add(Activation('sigmoid'))\n",
    "\n",
    "# On compile le modeles :\n",
    "\n",
    "model.compile(loss='binary_crossentropy',\n",
    "              optimizer='rmsprop',\n",
    "              metrics=['accuracy'])\n",
    "\n",
    "# On affiche le model :\n",
    "\n",
    "model.summary()"
   ]
  },
  {
   "cell_type": "code",
   "execution_count": null,
   "metadata": {},
   "outputs": [],
   "source": [
    "# On definit les paramétres pour l'entrainement :\n",
    "\n",
    "epochs = 4\n",
    "train_samples = 802\n",
    "validation_samples = 202\n",
    "test_samples = 1201"
   ]
  },
  {
   "cell_type": "code",
   "execution_count": null,
   "metadata": {},
   "outputs": [],
   "source": [
    "# Entrainement du modele :\n",
    "\n",
    "model.fit_generator(\n",
    "        train_generator,\n",
    "        steps_per_epoch=train_samples // batch_size,\n",
    "        epochs=epochs,\n",
    "        validation_data=validation_generator,\n",
    "        validation_steps=validation_samples// batch_size)"
   ]
  },
  {
   "cell_type": "code",
   "execution_count": 12,
   "metadata": {},
   "outputs": [],
   "source": [
    "def testImage(path):\n",
    "    img = load_img(path, target_size=(224,224))\n",
    "    img = img_to_array(img)\n",
    "    img = img.reshape((1, img.shape[0], img.shape[1], img.shape[2]))\n",
    "    y = model.predict(img)\n",
    "    return y[0][0]"
   ]
  },
  {
   "cell_type": "code",
   "execution_count": null,
   "metadata": {},
   "outputs": [],
   "source": [
    "# On evalue le modele sur les donnes de validation :\n",
    "\n",
    "resultValidation = model.evaluate_generator(validation_generator, validation_samples)\n",
    "\n",
    "# On evalue le modele sur les donnes de test :\n",
    "\n",
    "resultTest = model.evaluate_generator(test_generator, test_samples)\n",
    "\n",
    "\n",
    "# On test quelque image aleatoirement choisis :\n",
    "\n",
    "resultExemple = testImage(\"Data/EXEMPLE/COVID1\")\n",
    "\n",
    "    # Visualisation de l'image puis test puis affichage du resulat\n",
    "    \n",
    "print(resultValidation)\n",
    "print(resultTest)\n",
    "print(resultExemple)"
   ]
  },
  {
   "cell_type": "code",
   "execution_count": null,
   "metadata": {},
   "outputs": [],
   "source": [
    "# On enregistre l'historique et les poids :\n",
    "\n",
    "model.save_weights('models/scratch_10G_V1.h5')"
   ]
  },
  {
   "cell_type": "code",
   "execution_count": 5,
   "metadata": {},
   "outputs": [],
   "source": [
    "# On instencie notre objet ImageDataGenerator\n",
    "\n",
    "MonPetitGenerateur = ImageDataGenerator(\n",
    "        rotation_range=20,\n",
    "        zoom_range=0.15,\n",
    "        width_shift_range=0.2,\n",
    "        height_shift_range=0.2,\n",
    "        shear_range=0.15,\n",
    "        horizontal_flip=True,\n",
    "        fill_mode=\"nearest\", cval=125)"
   ]
  },
  {
   "cell_type": "code",
   "execution_count": 6,
   "metadata": {},
   "outputs": [],
   "source": [
    "# On stock les images que l'on veut augmenter\n",
    "\n",
    "image_directory = 'Data/TO-AUGMENTED/COVID/'\n",
    "image_directory2 = 'Data/TO-AUGMENTED/NORMAL/'\n",
    "SIZE = 500\n",
    "datasetCovid = []\n",
    "datasetNormal = []\n",
    "\n",
    "my_images = os.listdir(image_directory)\n",
    "for i, image_name in enumerate(my_images):\n",
    "    if (image_name.split('.')[1] == 'jpg'):\n",
    "        image = load_img(image_directory + image_name,target_size = (224,224))\n",
    "        image = img_to_array(image)\n",
    "        image = image.reshape((image.shape[0], image.shape[1], image.shape[2]))\n",
    "        datasetCovid.append(image)\n",
    "x = np.array(datasetCovid)\n",
    "\n",
    "my_images2 = os.listdir(image_directory2)\n",
    "for i, image_name in enumerate(my_images2):\n",
    "    if (image_name.split('.')[1] == 'jpg'):\n",
    "        image2 = load_img(image_directory2 + image_name,target_size = (224,224))\n",
    "        image2 = img_to_array(image2)\n",
    "        image2 = image2.reshape((image2.shape[0], image2.shape[1], image2.shape[2]))\n",
    "        datasetNormal.append(image2)\n",
    "y = np.array(datasetNormal)\n"
   ]
  },
  {
   "cell_type": "code",
   "execution_count": null,
   "metadata": {},
   "outputs": [],
   "source": [
    "# On augmente et on stock les nouvelles images\n",
    "\n",
    "i = 0\n",
    "for batch in MonPetitGenerateur.flow(x, batch_size=32,  \n",
    "                          save_to_dir='Data/AUGMENTED/COVID-AUGMENTED', \n",
    "                          save_prefix='aug', \n",
    "                          save_format='png'):\n",
    "    i += 1\n",
    "    if i > 19:\n",
    "        break"
   ]
  },
  {
   "cell_type": "code",
   "execution_count": null,
   "metadata": {},
   "outputs": [],
   "source": [
    "i = 0\n",
    "for batch in MonPetitGenerateur.flow(y, batch_size=32,  \n",
    "                          save_to_dir='Data/AUGMENTED/NORMAL-AUGMENTED', \n",
    "                          save_prefix='aug', \n",
    "                          save_format='png'):\n",
    "    i += 1\n",
    "    if i > 19:\n",
    "        break"
   ]
  },
  {
   "cell_type": "code",
   "execution_count": 7,
   "metadata": {},
   "outputs": [
    {
     "name": "stdout",
     "output_type": "stream",
     "text": [
      "Il y a 80 images d'entrainement de patient covid.\n",
      "Il y a 80 images d'entrainement de patient non-covid.\n",
      "Il y a 201 images test de patient covid.\n",
      "Il y a 1001 images test de patient non-covid.\n"
     ]
    }
   ],
   "source": [
    "# On declare les chemins vers les nouvelles donnees :\n",
    "Image = 'data'\n",
    "train_data_dir = 'Data/AUGMENTED'\n",
    "validation_data_dir = 'Data/TEST'\n",
    "\n",
    "# On declare les dimensions pour les images (224,224) :\n",
    "\n",
    "img_width, img_height = 224, 224\n",
    "\n",
    "# On liste et stocke les chemins des images :\n",
    "\n",
    "ImageTRAINCOVID = os.listdir(Image + '/AUGMENTED/COVID-AUGMENTED')\n",
    "ImageTRAINNORMAL = os.listdir(Image + '/AUGMENTED/NORMAL-AUGMENTED')\n",
    "\n",
    "ImageTESTCOVID = os.listdir(Image + '/TEST/COVID')\n",
    "ImageTESTNORMAL = os.listdir(Image + '/TEST/NORMAL')\n",
    "\n",
    "# On affiche le nombre d'image trouve :\n",
    "\n",
    "print('Il y a ' + str(len(ImageTRAINCOVID)) + ' images d\\'entrainement de patient covid.') \n",
    "print('Il y a ' + str(len(ImageTRAINNORMAL)) + ' images d\\'entrainement de patient non-covid.') \n",
    "print('Il y a ' + str(len(ImageTESTCOVID)) + ' images test de patient covid.') \n",
    "print('Il y a ' + str(len(ImageTESTNORMAL)) + ' images test de patient non-covid.') \n"
   ]
  },
  {
   "cell_type": "code",
   "execution_count": 15,
   "metadata": {},
   "outputs": [
    {
     "name": "stdout",
     "output_type": "stream",
     "text": [
      "Found 160 images belonging to 2 classes.\n",
      "Found 1200 images belonging to 2 classes.\n",
      "Found 1200 images belonging to 2 classes.\n"
     ]
    }
   ],
   "source": [
    "# On rescale les images :\n",
    "\n",
    "datagen = ImageDataGenerator(rescale=1./255)\n",
    "\n",
    "# On definit la batch size :\n",
    "\n",
    "batch_size = 32 \n",
    "\n",
    "# On prepare les tableaux de donnees depuis les images :\n",
    "\n",
    "train_generator = datagen.flow_from_directory(\n",
    "        train_data_dir,\n",
    "        target_size=(img_width, img_height),\n",
    "        batch_size=batch_size,\n",
    "        class_mode='binary')\n",
    "\n",
    "test_generator = datagen.flow_from_directory(\n",
    "        test_data_dir,\n",
    "        target_size=(img_width, img_height),\n",
    "        batch_size=batch_size,\n",
    "        class_mode='binary')\n",
    "\n",
    "validation_generator = datagen.flow_from_directory(\n",
    "        validation_data_dir,\n",
    "        target_size=(img_width, img_height),\n",
    "        batch_size=batch_size,\n",
    "        class_mode='binary')\n",
    "\n"
   ]
  },
  {
   "cell_type": "code",
   "execution_count": 9,
   "metadata": {},
   "outputs": [],
   "source": [
    "# On Re-definit les paramétres pour l'entrainement :\n",
    "\n",
    "epochs = 4\n",
    "train_samples = 160\n",
    "validation_samples = 1200\n",
    "test_samples = 1200"
   ]
  },
  {
   "cell_type": "code",
   "execution_count": 10,
   "metadata": {},
   "outputs": [
    {
     "name": "stdout",
     "output_type": "stream",
     "text": [
      "Epoch 1/4\n",
      "5/5 [==============================] - 82s 16s/step - loss: 1.0145 - accuracy: 0.5250 - val_loss: 0.4593 - val_accuracy: 0.8336\n",
      "Epoch 2/4\n",
      "5/5 [==============================] - 81s 16s/step - loss: 0.6772 - accuracy: 0.6125 - val_loss: 0.5362 - val_accuracy: 0.8454\n",
      "Epoch 3/4\n",
      "5/5 [==============================] - 79s 16s/step - loss: 0.5051 - accuracy: 0.7750 - val_loss: 0.5807 - val_accuracy: 0.6917\n",
      "Epoch 4/4\n",
      "5/5 [==============================] - 84s 17s/step - loss: 0.3920 - accuracy: 0.8875 - val_loss: 0.5720 - val_accuracy: 0.7618\n"
     ]
    },
    {
     "data": {
      "text/plain": [
       "<tensorflow.python.keras.callbacks.History at 0x64e6af490>"
      ]
     },
     "execution_count": 10,
     "metadata": {},
     "output_type": "execute_result"
    }
   ],
   "source": [
    "# Re-Entrainement du modele :\n",
    "\n",
    "model.fit_generator(\n",
    "        train_generator,\n",
    "        steps_per_epoch=train_samples // batch_size,\n",
    "        epochs=epochs,\n",
    "        validation_data=validation_generator,\n",
    "        validation_steps=validation_samples// batch_size)"
   ]
  },
  {
   "cell_type": "code",
   "execution_count": 16,
   "metadata": {},
   "outputs": [
    {
     "ename": "NameError",
     "evalue": "name 'test_samples' is not defined",
     "output_type": "error",
     "traceback": [
      "\u001b[0;31m---------------------------------------------------------------------------\u001b[0m",
      "\u001b[0;31mNameError\u001b[0m                                 Traceback (most recent call last)",
      "\u001b[0;32m<ipython-input-16-6fd306f617fd>\u001b[0m in \u001b[0;36m<module>\u001b[0;34m\u001b[0m\n\u001b[1;32m      5\u001b[0m \u001b[0;31m# On evalue le modele sur les donnes de test :\u001b[0m\u001b[0;34m\u001b[0m\u001b[0;34m\u001b[0m\u001b[0;34m\u001b[0m\u001b[0m\n\u001b[1;32m      6\u001b[0m \u001b[0;34m\u001b[0m\u001b[0m\n\u001b[0;32m----> 7\u001b[0;31m \u001b[0mresultTest\u001b[0m \u001b[0;34m=\u001b[0m \u001b[0mmodel\u001b[0m\u001b[0;34m.\u001b[0m\u001b[0mevaluate_generator\u001b[0m\u001b[0;34m(\u001b[0m\u001b[0mtest_generator\u001b[0m\u001b[0;34m,\u001b[0m \u001b[0mtest_samples\u001b[0m\u001b[0;34m)\u001b[0m\u001b[0;34m\u001b[0m\u001b[0;34m\u001b[0m\u001b[0m\n\u001b[0m\u001b[1;32m      8\u001b[0m \u001b[0;34m\u001b[0m\u001b[0m\n\u001b[1;32m      9\u001b[0m \u001b[0mresultExemple\u001b[0m \u001b[0;34m=\u001b[0m \u001b[0mtestImage\u001b[0m\u001b[0;34m(\u001b[0m\u001b[0;34m\"Data/EXEMPLE/COVID1\"\u001b[0m\u001b[0;34m)\u001b[0m\u001b[0;34m\u001b[0m\u001b[0;34m\u001b[0m\u001b[0m\n",
      "\u001b[0;31mNameError\u001b[0m: name 'test_samples' is not defined"
     ]
    }
   ],
   "source": [
    "# On evalue le modele sur les donnes de validation :\n",
    "\n",
    "resultValidation = model.evaluate_generator(validation_generator, validation_samples)\n",
    "\n",
    "# On evalue le modele sur les donnes de test :\n",
    "\n",
    "resultTest = model.evaluate_generator(test_generator, test_samples)\n",
    "\n",
    "resultExemple = testImage(\"Data/EXEMPLE/COVID1\")\n",
    "\n",
    "    # Visualisation de l'image puis test puis affichage du resulat\n",
    "    \n",
    "print(resultValidation)\n",
    "print(resultTest)\n",
    "print(resultExemple)"
   ]
  },
  {
   "cell_type": "code",
   "execution_count": null,
   "metadata": {},
   "outputs": [],
   "source": [
    "# On enregistre l'historique et les poids :\n",
    "\n",
    "model.save_weights('models/scratch_10G_V1_AUGMENTED.h5')"
   ]
  },
  {
   "cell_type": "code",
   "execution_count": null,
   "metadata": {},
   "outputs": [],
   "source": [
    "# Comparaison :"
   ]
  },
  {
   "cell_type": "code",
   "execution_count": null,
   "metadata": {},
   "outputs": [],
   "source": [
    "# Fin du programme ..."
   ]
  }
 ],
 "metadata": {
  "kernelspec": {
   "display_name": "Python 3",
   "language": "python",
   "name": "python3"
  },
  "language_info": {
   "codemirror_mode": {
    "name": "ipython",
    "version": 3
   },
   "file_extension": ".py",
   "mimetype": "text/x-python",
   "name": "python",
   "nbconvert_exporter": "python",
   "pygments_lexer": "ipython3",
   "version": "3.7.7"
  }
 },
 "nbformat": 4,
 "nbformat_minor": 4
}
