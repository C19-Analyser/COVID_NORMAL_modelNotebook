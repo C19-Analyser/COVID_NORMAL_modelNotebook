{
 "cells": [
  {
   "cell_type": "markdown",
   "metadata": {},
   "source": [
    "# Modèle from scratch : classification binaire COVID / SAIN (NORMAL)"
   ]
  },
  {
   "cell_type": "code",
   "execution_count": null,
   "metadata": {},
   "outputs": [],
   "source": [
    "# Chargement des modules necessaire :\n",
    "\n"
   ]
  },
  {
   "cell_type": "code",
   "execution_count": null,
   "metadata": {},
   "outputs": [],
   "source": [
    "# On declare les chemins vers les donnees :\n",
    "\n",
    "\n",
    "# On declare les dimensions pour les images (224,224) :\n",
    "\n",
    "\n",
    "# On liste et stocke les chemins des images :\n",
    "\n",
    "\n",
    "# On affiche le nombre d'image trouve :"
   ]
  },
  {
   "cell_type": "code",
   "execution_count": null,
   "metadata": {},
   "outputs": [],
   "source": [
    "# Visualisation de 6 exemples en 2 lignes et 3 colonnes pour chaque classe :\n",
    "\n"
   ]
  },
  {
   "cell_type": "code",
   "execution_count": null,
   "metadata": {},
   "outputs": [],
   "source": [
    "# Preprocessing :\n",
    "\n",
    "# On rescale les images :\n",
    "\n",
    "\n",
    "# On definit la batch size :\n",
    "\n",
    "\n",
    "# On prepare les tableaux de donnees depuis les images :\n",
    "\n"
   ]
  },
  {
   "cell_type": "code",
   "execution_count": null,
   "metadata": {},
   "outputs": [],
   "source": [
    "# On definit l'architecture du model :\n",
    "\n",
    "\n",
    "# On compile le modeles :\n",
    "\n",
    "\n",
    "# On affiche le model :\n",
    "\n"
   ]
  },
  {
   "cell_type": "code",
   "execution_count": null,
   "metadata": {},
   "outputs": [],
   "source": [
    "# On definit les paramétres pour l'entrainement :\n",
    "\n"
   ]
  },
  {
   "cell_type": "code",
   "execution_count": null,
   "metadata": {},
   "outputs": [],
   "source": [
    "# Entrainement du modele :\n",
    "\n"
   ]
  },
  {
   "cell_type": "code",
   "execution_count": null,
   "metadata": {},
   "outputs": [],
   "source": [
    "# Visualisation de l'evolution lors de l'entrainement :\n",
    "\n"
   ]
  },
  {
   "cell_type": "code",
   "execution_count": null,
   "metadata": {},
   "outputs": [],
   "source": [
    "# Basiquement : TRAIN et TEST(1) => Maintenant TRAIN / VALIDATION / TEST(2)\n",
    "\n",
    "# TRAIN et TEST (1) <=> VALIDATION sont connu du modele // TEST (2 n'est pas connu) externe au training.\n",
    "\n",
    "# On evalue le modele sur les donnes de validation :\n",
    "\n",
    "\n",
    "# On evalue le modele sur les donnes de test :\n",
    "\n",
    "\n",
    "# On test quelque image aleatoirement choisis :\n",
    "\n",
    "    # Visualisation de l'image puis test puis affichage du resulat"
   ]
  },
  {
   "cell_type": "code",
   "execution_count": null,
   "metadata": {},
   "outputs": [],
   "source": [
    "# On enregistre l'historique et les poids :\n",
    "\n"
   ]
  },
  {
   "cell_type": "code",
   "execution_count": null,
   "metadata": {},
   "outputs": [],
   "source": [
    "# Data augmentation :"
   ]
  },
  {
   "cell_type": "code",
   "execution_count": null,
   "metadata": {},
   "outputs": [],
   "source": [
    "# Meme processus :"
   ]
  },
  {
   "cell_type": "code",
   "execution_count": null,
   "metadata": {},
   "outputs": [],
   "source": [
    "# Comparaison :"
   ]
  },
  {
   "cell_type": "code",
   "execution_count": null,
   "metadata": {},
   "outputs": [],
   "source": [
    "# Fin du programme ..."
   ]
  }
 ],
 "metadata": {
  "kernelspec": {
   "display_name": "Python 3",
   "language": "python",
   "name": "python3"
  },
  "language_info": {
   "codemirror_mode": {
    "name": "ipython",
    "version": 3
   },
   "file_extension": ".py",
   "mimetype": "text/x-python",
   "name": "python",
   "nbconvert_exporter": "python",
   "pygments_lexer": "ipython3",
   "version": "3.7.6"
  }
 },
 "nbformat": 4,
 "nbformat_minor": 4
}
